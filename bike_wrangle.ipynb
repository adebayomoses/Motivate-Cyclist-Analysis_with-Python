{
 "cells": [
  {
   "cell_type": "markdown",
   "id": "8d86c64a",
   "metadata": {},
   "source": [
    "## Cyclistic Analysis"
   ]
  },
  {
   "cell_type": "markdown",
   "id": "82bda4f0",
   "metadata": {},
   "source": [
    "#### Goal of the Analysis\n",
    "> Converting casual riders into annual members"
   ]
  },
  {
   "cell_type": "markdown",
   "id": "179e35a8",
   "metadata": {},
   "source": [
    "#### Sources of Data\n",
    "> The data has been made available by Motivate International Inc"
   ]
  },
  {
   "cell_type": "markdown",
   "id": "4ad54716",
   "metadata": {},
   "source": [
    "#### Questions to Address\n",
    "> How do annual members and casual riders use Cyclistic bikes differently?\n",
    "\n",
    "> How can Cyclistic use digital media to influence casual riders to become members?\n"
   ]
  },
  {
   "cell_type": "markdown",
   "id": "35b4fbb7",
   "metadata": {},
   "source": [
    "#### Limitation\n",
    "\n",
    "* There was no sufficient data such as the actual cost of cyclist tickets on the bikes.\n",
    "\n",
    "* Most of the variables in the dataset are string types, which do not allow a high level statistical method to be conducted.\n",
    "\n",
    "* The readable bike type avaliable in the data set is docked_bike. there is no other varities so as to compare.\n",
    "\n",
    "* Their is no enough data to look at the other factor affecting the why members still remain members and why casuals still remain casuals Cyclistic\n",
    "\n",
    "* insufficient data to look at the other factor affecting Why would casual riders buy Cyclistic annual memberships?"
   ]
  },
  {
   "cell_type": "markdown",
   "id": "df04ea52",
   "metadata": {},
   "source": [
    "### Data Wrangling"
   ]
  },
  {
   "cell_type": "code",
   "execution_count": 2,
   "id": "44107530",
   "metadata": {},
   "outputs": [],
   "source": [
    "# importing the necessary packages for the analysis.\n",
    "\n",
    "import pandas as pd\n",
    "import matplotlib.pyplot as plt\n",
    "import seaborn as sns\n",
    "import numpy as np\n",
    "%matplotlib inline "
   ]
  },
  {
   "cell_type": "code",
   "execution_count": 3,
   "id": "508693f4",
   "metadata": {},
   "outputs": [],
   "source": [
    "# loading the data set.\n",
    "\n",
    "df = pd.read_csv('202004-divvy-tripdata.csv')\n",
    "df_2 = pd.read_csv('202006-divvy-tripdata.csv')"
   ]
  },
  {
   "cell_type": "code",
   "execution_count": 4,
   "id": "3e47efe7",
   "metadata": {},
   "outputs": [],
   "source": [
    "# joining the two data set together.\n",
    "\n",
    "df = df.append(df_2)"
   ]
  },
  {
   "cell_type": "code",
   "execution_count": 5,
   "id": "95b81857",
   "metadata": {},
   "outputs": [
    {
     "data": {
      "text/html": [
       "<div>\n",
       "<style scoped>\n",
       "    .dataframe tbody tr th:only-of-type {\n",
       "        vertical-align: middle;\n",
       "    }\n",
       "\n",
       "    .dataframe tbody tr th {\n",
       "        vertical-align: top;\n",
       "    }\n",
       "\n",
       "    .dataframe thead th {\n",
       "        text-align: right;\n",
       "    }\n",
       "</style>\n",
       "<table border=\"1\" class=\"dataframe\">\n",
       "  <thead>\n",
       "    <tr style=\"text-align: right;\">\n",
       "      <th></th>\n",
       "      <th>ride_id</th>\n",
       "      <th>rideable_type</th>\n",
       "      <th>started_at</th>\n",
       "      <th>ended_at</th>\n",
       "      <th>start_station_name</th>\n",
       "      <th>start_station_id</th>\n",
       "      <th>end_station_name</th>\n",
       "      <th>end_station_id</th>\n",
       "      <th>start_lat</th>\n",
       "      <th>start_lng</th>\n",
       "      <th>end_lat</th>\n",
       "      <th>end_lng</th>\n",
       "      <th>member_casual</th>\n",
       "    </tr>\n",
       "  </thead>\n",
       "  <tbody>\n",
       "    <tr>\n",
       "      <th>210053</th>\n",
       "      <td>3B91582052EFB1FC</td>\n",
       "      <td>docked_bike</td>\n",
       "      <td>2020-06-19 12:49:04</td>\n",
       "      <td>2020-06-19 13:06:20</td>\n",
       "      <td>Kingsbury St &amp; Kinzie St</td>\n",
       "      <td>133</td>\n",
       "      <td>Wood St &amp; Milwaukee Ave</td>\n",
       "      <td>61.0</td>\n",
       "      <td>41.889177</td>\n",
       "      <td>-87.638506</td>\n",
       "      <td>41.907655</td>\n",
       "      <td>-87.672552</td>\n",
       "      <td>casual</td>\n",
       "    </tr>\n",
       "    <tr>\n",
       "      <th>187463</th>\n",
       "      <td>707B35E67972CCCF</td>\n",
       "      <td>docked_bike</td>\n",
       "      <td>2020-06-27 17:50:59</td>\n",
       "      <td>2020-06-27 18:24:00</td>\n",
       "      <td>Mies van der Rohe Way &amp; Chestnut St</td>\n",
       "      <td>145</td>\n",
       "      <td>Seeley Ave &amp; Roscoe St</td>\n",
       "      <td>308.0</td>\n",
       "      <td>41.898586</td>\n",
       "      <td>-87.621915</td>\n",
       "      <td>41.943403</td>\n",
       "      <td>-87.679618</td>\n",
       "      <td>member</td>\n",
       "    </tr>\n",
       "    <tr>\n",
       "      <th>53269</th>\n",
       "      <td>72B1941BD4CFC757</td>\n",
       "      <td>docked_bike</td>\n",
       "      <td>2020-06-19 23:55:35</td>\n",
       "      <td>2020-06-20 00:18:18</td>\n",
       "      <td>Sheffield Ave &amp; Wellington Ave</td>\n",
       "      <td>115</td>\n",
       "      <td>Peoria St &amp; Jackson Blvd</td>\n",
       "      <td>134.0</td>\n",
       "      <td>41.936266</td>\n",
       "      <td>-87.652662</td>\n",
       "      <td>41.877642</td>\n",
       "      <td>-87.649618</td>\n",
       "      <td>casual</td>\n",
       "    </tr>\n",
       "    <tr>\n",
       "      <th>59260</th>\n",
       "      <td>81DFFD52029526AD</td>\n",
       "      <td>docked_bike</td>\n",
       "      <td>2020-06-22 19:11:30</td>\n",
       "      <td>2020-06-22 19:19:29</td>\n",
       "      <td>Orleans St &amp; Hubbard St</td>\n",
       "      <td>636</td>\n",
       "      <td>Wells St &amp; Walton St</td>\n",
       "      <td>46.0</td>\n",
       "      <td>41.890028</td>\n",
       "      <td>-87.636618</td>\n",
       "      <td>41.899930</td>\n",
       "      <td>-87.634430</td>\n",
       "      <td>member</td>\n",
       "    </tr>\n",
       "    <tr>\n",
       "      <th>312740</th>\n",
       "      <td>4480486D951D06BC</td>\n",
       "      <td>docked_bike</td>\n",
       "      <td>2020-06-27 10:43:24</td>\n",
       "      <td>2020-06-27 10:54:38</td>\n",
       "      <td>Delano Ct &amp; Roosevelt Rd</td>\n",
       "      <td>626</td>\n",
       "      <td>Wentworth Ave &amp; Cermak Rd</td>\n",
       "      <td>120.0</td>\n",
       "      <td>41.867491</td>\n",
       "      <td>-87.632190</td>\n",
       "      <td>41.853085</td>\n",
       "      <td>-87.631931</td>\n",
       "      <td>member</td>\n",
       "    </tr>\n",
       "    <tr>\n",
       "      <th>139902</th>\n",
       "      <td>E12BD397198D968F</td>\n",
       "      <td>docked_bike</td>\n",
       "      <td>2020-06-27 11:56:38</td>\n",
       "      <td>2020-06-27 13:01:39</td>\n",
       "      <td>State St &amp; Pearson St</td>\n",
       "      <td>106</td>\n",
       "      <td>Rush St &amp; Cedar St</td>\n",
       "      <td>172.0</td>\n",
       "      <td>41.897448</td>\n",
       "      <td>-87.628722</td>\n",
       "      <td>41.902309</td>\n",
       "      <td>-87.627691</td>\n",
       "      <td>member</td>\n",
       "    </tr>\n",
       "    <tr>\n",
       "      <th>114533</th>\n",
       "      <td>171BF958807A69F0</td>\n",
       "      <td>docked_bike</td>\n",
       "      <td>2020-06-28 13:54:14</td>\n",
       "      <td>2020-06-28 14:09:43</td>\n",
       "      <td>Wentworth Ave &amp; Cermak Rd</td>\n",
       "      <td>120</td>\n",
       "      <td>Halsted St &amp; Polk St</td>\n",
       "      <td>108.0</td>\n",
       "      <td>41.853084</td>\n",
       "      <td>-87.631931</td>\n",
       "      <td>41.871840</td>\n",
       "      <td>-87.646640</td>\n",
       "      <td>member</td>\n",
       "    </tr>\n",
       "    <tr>\n",
       "      <th>28314</th>\n",
       "      <td>E46D9DC516E1472C</td>\n",
       "      <td>docked_bike</td>\n",
       "      <td>2020-04-04 11:22:36</td>\n",
       "      <td>2020-04-04 11:32:03</td>\n",
       "      <td>Sheffield Ave &amp; Willow St</td>\n",
       "      <td>93</td>\n",
       "      <td>Clark St &amp; Schiller St</td>\n",
       "      <td>301.0</td>\n",
       "      <td>41.913700</td>\n",
       "      <td>-87.652900</td>\n",
       "      <td>41.908000</td>\n",
       "      <td>-87.631500</td>\n",
       "      <td>member</td>\n",
       "    </tr>\n",
       "    <tr>\n",
       "      <th>334107</th>\n",
       "      <td>CC17B22397602CC2</td>\n",
       "      <td>docked_bike</td>\n",
       "      <td>2020-06-17 08:12:44</td>\n",
       "      <td>2020-06-17 08:18:14</td>\n",
       "      <td>Kimbark Ave &amp; 53rd St</td>\n",
       "      <td>322</td>\n",
       "      <td>Lake Park Ave &amp; 56th St</td>\n",
       "      <td>345.0</td>\n",
       "      <td>41.799568</td>\n",
       "      <td>-87.594747</td>\n",
       "      <td>41.793242</td>\n",
       "      <td>-87.587782</td>\n",
       "      <td>member</td>\n",
       "    </tr>\n",
       "    <tr>\n",
       "      <th>310587</th>\n",
       "      <td>FA79D196D193A504</td>\n",
       "      <td>docked_bike</td>\n",
       "      <td>2020-06-13 17:32:09</td>\n",
       "      <td>2020-06-13 17:46:38</td>\n",
       "      <td>Broadway &amp; Barry Ave</td>\n",
       "      <td>300</td>\n",
       "      <td>Sheffield Ave &amp; Webster Ave</td>\n",
       "      <td>327.0</td>\n",
       "      <td>41.937582</td>\n",
       "      <td>-87.644097</td>\n",
       "      <td>41.921540</td>\n",
       "      <td>-87.653818</td>\n",
       "      <td>casual</td>\n",
       "    </tr>\n",
       "  </tbody>\n",
       "</table>\n",
       "</div>"
      ],
      "text/plain": [
       "                 ride_id rideable_type           started_at  \\\n",
       "210053  3B91582052EFB1FC   docked_bike  2020-06-19 12:49:04   \n",
       "187463  707B35E67972CCCF   docked_bike  2020-06-27 17:50:59   \n",
       "53269   72B1941BD4CFC757   docked_bike  2020-06-19 23:55:35   \n",
       "59260   81DFFD52029526AD   docked_bike  2020-06-22 19:11:30   \n",
       "312740  4480486D951D06BC   docked_bike  2020-06-27 10:43:24   \n",
       "139902  E12BD397198D968F   docked_bike  2020-06-27 11:56:38   \n",
       "114533  171BF958807A69F0   docked_bike  2020-06-28 13:54:14   \n",
       "28314   E46D9DC516E1472C   docked_bike  2020-04-04 11:22:36   \n",
       "334107  CC17B22397602CC2   docked_bike  2020-06-17 08:12:44   \n",
       "310587  FA79D196D193A504   docked_bike  2020-06-13 17:32:09   \n",
       "\n",
       "                   ended_at                   start_station_name  \\\n",
       "210053  2020-06-19 13:06:20             Kingsbury St & Kinzie St   \n",
       "187463  2020-06-27 18:24:00  Mies van der Rohe Way & Chestnut St   \n",
       "53269   2020-06-20 00:18:18       Sheffield Ave & Wellington Ave   \n",
       "59260   2020-06-22 19:19:29              Orleans St & Hubbard St   \n",
       "312740  2020-06-27 10:54:38             Delano Ct & Roosevelt Rd   \n",
       "139902  2020-06-27 13:01:39                State St & Pearson St   \n",
       "114533  2020-06-28 14:09:43            Wentworth Ave & Cermak Rd   \n",
       "28314   2020-04-04 11:32:03            Sheffield Ave & Willow St   \n",
       "334107  2020-06-17 08:18:14                Kimbark Ave & 53rd St   \n",
       "310587  2020-06-13 17:46:38                 Broadway & Barry Ave   \n",
       "\n",
       "        start_station_id             end_station_name  end_station_id  \\\n",
       "210053               133      Wood St & Milwaukee Ave            61.0   \n",
       "187463               145       Seeley Ave & Roscoe St           308.0   \n",
       "53269                115     Peoria St & Jackson Blvd           134.0   \n",
       "59260                636         Wells St & Walton St            46.0   \n",
       "312740               626    Wentworth Ave & Cermak Rd           120.0   \n",
       "139902               106           Rush St & Cedar St           172.0   \n",
       "114533               120         Halsted St & Polk St           108.0   \n",
       "28314                 93       Clark St & Schiller St           301.0   \n",
       "334107               322      Lake Park Ave & 56th St           345.0   \n",
       "310587               300  Sheffield Ave & Webster Ave           327.0   \n",
       "\n",
       "        start_lat  start_lng    end_lat    end_lng member_casual  \n",
       "210053  41.889177 -87.638506  41.907655 -87.672552        casual  \n",
       "187463  41.898586 -87.621915  41.943403 -87.679618        member  \n",
       "53269   41.936266 -87.652662  41.877642 -87.649618        casual  \n",
       "59260   41.890028 -87.636618  41.899930 -87.634430        member  \n",
       "312740  41.867491 -87.632190  41.853085 -87.631931        member  \n",
       "139902  41.897448 -87.628722  41.902309 -87.627691        member  \n",
       "114533  41.853084 -87.631931  41.871840 -87.646640        member  \n",
       "28314   41.913700 -87.652900  41.908000 -87.631500        member  \n",
       "334107  41.799568 -87.594747  41.793242 -87.587782        member  \n",
       "310587  41.937582 -87.644097  41.921540 -87.653818        casual  "
      ]
     },
     "execution_count": 5,
     "metadata": {},
     "output_type": "execute_result"
    }
   ],
   "source": [
    "# making Visual assessment through random sampling of the data.\n",
    "\n",
    "df.sample(10)"
   ]
  },
  {
   "cell_type": "code",
   "execution_count": 6,
   "id": "b3bdc71a",
   "metadata": {},
   "outputs": [
    {
     "data": {
      "text/plain": [
       "ride_id                object\n",
       "rideable_type          object\n",
       "started_at             object\n",
       "ended_at               object\n",
       "start_station_name     object\n",
       "start_station_id        int64\n",
       "end_station_name       object\n",
       "end_station_id        float64\n",
       "start_lat             float64\n",
       "start_lng             float64\n",
       "end_lat               float64\n",
       "end_lng               float64\n",
       "member_casual          object\n",
       "dtype: object"
      ]
     },
     "execution_count": 6,
     "metadata": {},
     "output_type": "execute_result"
    }
   ],
   "source": [
    "# checking the data tpyes\n",
    "\n",
    "df.dtypes"
   ]
  },
  {
   "cell_type": "code",
   "execution_count": 7,
   "id": "4de46426",
   "metadata": {},
   "outputs": [],
   "source": [
    "# Converting columns data types to Date Data type.\n",
    "\n",
    "df['started_at'] = df['started_at'].astype('datetime64[ns]')\n",
    "df['ended_at'] = df['ended_at'].astype('datetime64[ns]')"
   ]
  },
  {
   "cell_type": "code",
   "execution_count": 8,
   "id": "6d62e104",
   "metadata": {
    "scrolled": true
   },
   "outputs": [
    {
     "name": "stdout",
     "output_type": "stream",
     "text": [
      "<class 'pandas.core.frame.DataFrame'>\n",
      "Int64Index: 427781 entries, 0 to 343004\n",
      "Data columns (total 13 columns):\n",
      " #   Column              Non-Null Count   Dtype         \n",
      "---  ------              --------------   -----         \n",
      " 0   ride_id             427781 non-null  object        \n",
      " 1   rideable_type       427781 non-null  object        \n",
      " 2   started_at          427781 non-null  datetime64[ns]\n",
      " 3   ended_at            427781 non-null  datetime64[ns]\n",
      " 4   start_station_name  427781 non-null  object        \n",
      " 5   start_station_id    427781 non-null  int64         \n",
      " 6   end_station_name    427214 non-null  object        \n",
      " 7   end_station_id      427214 non-null  float64       \n",
      " 8   start_lat           427781 non-null  float64       \n",
      " 9   start_lng           427781 non-null  float64       \n",
      " 10  end_lat             427214 non-null  float64       \n",
      " 11  end_lng             427214 non-null  float64       \n",
      " 12  member_casual       427781 non-null  object        \n",
      "dtypes: datetime64[ns](2), float64(5), int64(1), object(5)\n",
      "memory usage: 45.7+ MB\n"
     ]
    }
   ],
   "source": [
    "# Confirming the data types conversion.\n",
    "\n",
    "df.info()"
   ]
  },
  {
   "cell_type": "code",
   "execution_count": 9,
   "id": "7b502f35",
   "metadata": {},
   "outputs": [],
   "source": [
    "# Getting the time, latitude and longitude lenght/difference.\n",
    "\n",
    "lat_length =  df['end_lat'] - df['start_lat']\n",
    "\n",
    "lng_length =  df['end_lng'] - df['start_lng']\n",
    "\n",
    "ride_length =  df['ended_at'] - df['started_at']\n",
    "\n",
    "df['ride_length'] = ride_length\n",
    "\n",
    "df['lat_length'] = lat_length\n",
    "\n",
    "df['lng_length'] = lng_length"
   ]
  },
  {
   "cell_type": "code",
   "execution_count": 10,
   "id": "f4b2580b",
   "metadata": {},
   "outputs": [
    {
     "data": {
      "text/html": [
       "<div>\n",
       "<style scoped>\n",
       "    .dataframe tbody tr th:only-of-type {\n",
       "        vertical-align: middle;\n",
       "    }\n",
       "\n",
       "    .dataframe tbody tr th {\n",
       "        vertical-align: top;\n",
       "    }\n",
       "\n",
       "    .dataframe thead th {\n",
       "        text-align: right;\n",
       "    }\n",
       "</style>\n",
       "<table border=\"1\" class=\"dataframe\">\n",
       "  <thead>\n",
       "    <tr style=\"text-align: right;\">\n",
       "      <th></th>\n",
       "      <th>ride_id</th>\n",
       "      <th>rideable_type</th>\n",
       "      <th>started_at</th>\n",
       "      <th>ended_at</th>\n",
       "      <th>start_station_name</th>\n",
       "      <th>start_station_id</th>\n",
       "      <th>end_station_name</th>\n",
       "      <th>end_station_id</th>\n",
       "      <th>start_lat</th>\n",
       "      <th>start_lng</th>\n",
       "      <th>end_lat</th>\n",
       "      <th>end_lng</th>\n",
       "      <th>member_casual</th>\n",
       "      <th>ride_length</th>\n",
       "      <th>lat_length</th>\n",
       "      <th>lng_length</th>\n",
       "    </tr>\n",
       "  </thead>\n",
       "  <tbody>\n",
       "    <tr>\n",
       "      <th>92803</th>\n",
       "      <td>925E2C4E506A2E10</td>\n",
       "      <td>docked_bike</td>\n",
       "      <td>2020-06-17 22:09:54</td>\n",
       "      <td>2020-06-17 23:08:22</td>\n",
       "      <td>Cottage Grove Ave &amp; 43rd St</td>\n",
       "      <td>271</td>\n",
       "      <td>Cottage Grove Ave &amp; 43rd St</td>\n",
       "      <td>271.0</td>\n",
       "      <td>41.816499</td>\n",
       "      <td>-87.606582</td>\n",
       "      <td>41.816499</td>\n",
       "      <td>-87.606582</td>\n",
       "      <td>casual</td>\n",
       "      <td>0 days 00:58:28</td>\n",
       "      <td>0.000000</td>\n",
       "      <td>0.000000</td>\n",
       "    </tr>\n",
       "    <tr>\n",
       "      <th>117552</th>\n",
       "      <td>1C431CDFBB8A1E86</td>\n",
       "      <td>docked_bike</td>\n",
       "      <td>2020-06-19 22:45:42</td>\n",
       "      <td>2020-06-20 08:37:56</td>\n",
       "      <td>Southport Ave &amp; Wrightwood Ave</td>\n",
       "      <td>190</td>\n",
       "      <td>Ashland Ave &amp; Wrightwood Ave</td>\n",
       "      <td>166.0</td>\n",
       "      <td>41.928773</td>\n",
       "      <td>-87.663913</td>\n",
       "      <td>41.928830</td>\n",
       "      <td>-87.668507</td>\n",
       "      <td>casual</td>\n",
       "      <td>0 days 09:52:14</td>\n",
       "      <td>0.000057</td>\n",
       "      <td>-0.004594</td>\n",
       "    </tr>\n",
       "    <tr>\n",
       "      <th>124153</th>\n",
       "      <td>3949F97CCB1B4609</td>\n",
       "      <td>docked_bike</td>\n",
       "      <td>2020-06-04 11:38:03</td>\n",
       "      <td>2020-06-04 11:46:24</td>\n",
       "      <td>Michigan Ave &amp; Lake St</td>\n",
       "      <td>52</td>\n",
       "      <td>Dearborn St &amp; Van Buren St</td>\n",
       "      <td>624.0</td>\n",
       "      <td>41.886024</td>\n",
       "      <td>-87.624117</td>\n",
       "      <td>41.876268</td>\n",
       "      <td>-87.629155</td>\n",
       "      <td>member</td>\n",
       "      <td>0 days 00:08:21</td>\n",
       "      <td>-0.009756</td>\n",
       "      <td>-0.005038</td>\n",
       "    </tr>\n",
       "    <tr>\n",
       "      <th>211949</th>\n",
       "      <td>D790623B7261C3BE</td>\n",
       "      <td>docked_bike</td>\n",
       "      <td>2020-06-30 08:19:12</td>\n",
       "      <td>2020-06-30 08:30:24</td>\n",
       "      <td>Clinton St &amp; Jackson Blvd</td>\n",
       "      <td>638</td>\n",
       "      <td>Throop (Loomis) St &amp; Taylor St</td>\n",
       "      <td>19.0</td>\n",
       "      <td>41.878116</td>\n",
       "      <td>-87.639838</td>\n",
       "      <td>41.868968</td>\n",
       "      <td>-87.659141</td>\n",
       "      <td>casual</td>\n",
       "      <td>0 days 00:11:12</td>\n",
       "      <td>-0.009148</td>\n",
       "      <td>-0.019303</td>\n",
       "    </tr>\n",
       "    <tr>\n",
       "      <th>53083</th>\n",
       "      <td>8CB087D15F10E5AC</td>\n",
       "      <td>docked_bike</td>\n",
       "      <td>2020-06-19 07:47:51</td>\n",
       "      <td>2020-06-19 08:05:17</td>\n",
       "      <td>Michigan Ave &amp; 14th St</td>\n",
       "      <td>168</td>\n",
       "      <td>Wood St &amp; Taylor St</td>\n",
       "      <td>317.0</td>\n",
       "      <td>41.864059</td>\n",
       "      <td>-87.623727</td>\n",
       "      <td>41.869154</td>\n",
       "      <td>-87.671045</td>\n",
       "      <td>casual</td>\n",
       "      <td>0 days 00:17:26</td>\n",
       "      <td>0.005095</td>\n",
       "      <td>-0.047318</td>\n",
       "    </tr>\n",
       "  </tbody>\n",
       "</table>\n",
       "</div>"
      ],
      "text/plain": [
       "                 ride_id rideable_type          started_at  \\\n",
       "92803   925E2C4E506A2E10   docked_bike 2020-06-17 22:09:54   \n",
       "117552  1C431CDFBB8A1E86   docked_bike 2020-06-19 22:45:42   \n",
       "124153  3949F97CCB1B4609   docked_bike 2020-06-04 11:38:03   \n",
       "211949  D790623B7261C3BE   docked_bike 2020-06-30 08:19:12   \n",
       "53083   8CB087D15F10E5AC   docked_bike 2020-06-19 07:47:51   \n",
       "\n",
       "                  ended_at              start_station_name  start_station_id  \\\n",
       "92803  2020-06-17 23:08:22     Cottage Grove Ave & 43rd St               271   \n",
       "117552 2020-06-20 08:37:56  Southport Ave & Wrightwood Ave               190   \n",
       "124153 2020-06-04 11:46:24          Michigan Ave & Lake St                52   \n",
       "211949 2020-06-30 08:30:24       Clinton St & Jackson Blvd               638   \n",
       "53083  2020-06-19 08:05:17          Michigan Ave & 14th St               168   \n",
       "\n",
       "                      end_station_name  end_station_id  start_lat  start_lng  \\\n",
       "92803      Cottage Grove Ave & 43rd St           271.0  41.816499 -87.606582   \n",
       "117552    Ashland Ave & Wrightwood Ave           166.0  41.928773 -87.663913   \n",
       "124153      Dearborn St & Van Buren St           624.0  41.886024 -87.624117   \n",
       "211949  Throop (Loomis) St & Taylor St            19.0  41.878116 -87.639838   \n",
       "53083              Wood St & Taylor St           317.0  41.864059 -87.623727   \n",
       "\n",
       "          end_lat    end_lng member_casual     ride_length  lat_length  \\\n",
       "92803   41.816499 -87.606582        casual 0 days 00:58:28    0.000000   \n",
       "117552  41.928830 -87.668507        casual 0 days 09:52:14    0.000057   \n",
       "124153  41.876268 -87.629155        member 0 days 00:08:21   -0.009756   \n",
       "211949  41.868968 -87.659141        casual 0 days 00:11:12   -0.009148   \n",
       "53083   41.869154 -87.671045        casual 0 days 00:17:26    0.005095   \n",
       "\n",
       "        lng_length  \n",
       "92803     0.000000  \n",
       "117552   -0.004594  \n",
       "124153   -0.005038  \n",
       "211949   -0.019303  \n",
       "53083    -0.047318  "
      ]
     },
     "execution_count": 10,
     "metadata": {},
     "output_type": "execute_result"
    }
   ],
   "source": [
    "# confirming the new columns for the length\n",
    "\n",
    "df.sample(5)"
   ]
  },
  {
   "cell_type": "code",
   "execution_count": 11,
   "id": "b11c8992",
   "metadata": {},
   "outputs": [],
   "source": [
    "# converting the start_at to weekdays; where 0 = Sunday and 6 = Saturday\n",
    "\n",
    "df['weekday'] = df['started_at'].dt.weekday"
   ]
  },
  {
   "cell_type": "code",
   "execution_count": 12,
   "id": "57a93649",
   "metadata": {},
   "outputs": [
    {
     "data": {
      "text/html": [
       "<div>\n",
       "<style scoped>\n",
       "    .dataframe tbody tr th:only-of-type {\n",
       "        vertical-align: middle;\n",
       "    }\n",
       "\n",
       "    .dataframe tbody tr th {\n",
       "        vertical-align: top;\n",
       "    }\n",
       "\n",
       "    .dataframe thead th {\n",
       "        text-align: right;\n",
       "    }\n",
       "</style>\n",
       "<table border=\"1\" class=\"dataframe\">\n",
       "  <thead>\n",
       "    <tr style=\"text-align: right;\">\n",
       "      <th></th>\n",
       "      <th>ride_id</th>\n",
       "      <th>rideable_type</th>\n",
       "      <th>started_at</th>\n",
       "      <th>ended_at</th>\n",
       "      <th>start_station_name</th>\n",
       "      <th>start_station_id</th>\n",
       "      <th>end_station_name</th>\n",
       "      <th>end_station_id</th>\n",
       "      <th>start_lat</th>\n",
       "      <th>start_lng</th>\n",
       "      <th>end_lat</th>\n",
       "      <th>end_lng</th>\n",
       "      <th>member_casual</th>\n",
       "      <th>ride_length</th>\n",
       "      <th>lat_length</th>\n",
       "      <th>lng_length</th>\n",
       "      <th>weekday</th>\n",
       "    </tr>\n",
       "  </thead>\n",
       "  <tbody>\n",
       "    <tr>\n",
       "      <th>0</th>\n",
       "      <td>A847FADBBC638E45</td>\n",
       "      <td>docked_bike</td>\n",
       "      <td>2020-04-26 17:45:14</td>\n",
       "      <td>2020-04-26 18:12:03</td>\n",
       "      <td>Eckhart Park</td>\n",
       "      <td>86</td>\n",
       "      <td>Lincoln Ave &amp; Diversey Pkwy</td>\n",
       "      <td>152.0</td>\n",
       "      <td>41.8964</td>\n",
       "      <td>-87.6610</td>\n",
       "      <td>41.9322</td>\n",
       "      <td>-87.6586</td>\n",
       "      <td>member</td>\n",
       "      <td>0 days 00:26:49</td>\n",
       "      <td>0.0358</td>\n",
       "      <td>0.0024</td>\n",
       "      <td>6</td>\n",
       "    </tr>\n",
       "    <tr>\n",
       "      <th>1</th>\n",
       "      <td>5405B80E996FF60D</td>\n",
       "      <td>docked_bike</td>\n",
       "      <td>2020-04-17 17:08:54</td>\n",
       "      <td>2020-04-17 17:17:03</td>\n",
       "      <td>Drake Ave &amp; Fullerton Ave</td>\n",
       "      <td>503</td>\n",
       "      <td>Kosciuszko Park</td>\n",
       "      <td>499.0</td>\n",
       "      <td>41.9244</td>\n",
       "      <td>-87.7154</td>\n",
       "      <td>41.9306</td>\n",
       "      <td>-87.7238</td>\n",
       "      <td>member</td>\n",
       "      <td>0 days 00:08:09</td>\n",
       "      <td>0.0062</td>\n",
       "      <td>-0.0084</td>\n",
       "      <td>4</td>\n",
       "    </tr>\n",
       "    <tr>\n",
       "      <th>2</th>\n",
       "      <td>5DD24A79A4E006F4</td>\n",
       "      <td>docked_bike</td>\n",
       "      <td>2020-04-01 17:54:13</td>\n",
       "      <td>2020-04-01 18:08:36</td>\n",
       "      <td>McClurg Ct &amp; Erie St</td>\n",
       "      <td>142</td>\n",
       "      <td>Indiana Ave &amp; Roosevelt Rd</td>\n",
       "      <td>255.0</td>\n",
       "      <td>41.8945</td>\n",
       "      <td>-87.6179</td>\n",
       "      <td>41.8679</td>\n",
       "      <td>-87.6230</td>\n",
       "      <td>member</td>\n",
       "      <td>0 days 00:14:23</td>\n",
       "      <td>-0.0266</td>\n",
       "      <td>-0.0051</td>\n",
       "      <td>2</td>\n",
       "    </tr>\n",
       "    <tr>\n",
       "      <th>3</th>\n",
       "      <td>2A59BBDF5CDBA725</td>\n",
       "      <td>docked_bike</td>\n",
       "      <td>2020-04-07 12:50:19</td>\n",
       "      <td>2020-04-07 13:02:31</td>\n",
       "      <td>California Ave &amp; Division St</td>\n",
       "      <td>216</td>\n",
       "      <td>Wood St &amp; Augusta Blvd</td>\n",
       "      <td>657.0</td>\n",
       "      <td>41.9030</td>\n",
       "      <td>-87.6975</td>\n",
       "      <td>41.8992</td>\n",
       "      <td>-87.6722</td>\n",
       "      <td>member</td>\n",
       "      <td>0 days 00:12:12</td>\n",
       "      <td>-0.0038</td>\n",
       "      <td>0.0253</td>\n",
       "      <td>1</td>\n",
       "    </tr>\n",
       "    <tr>\n",
       "      <th>4</th>\n",
       "      <td>27AD306C119C6158</td>\n",
       "      <td>docked_bike</td>\n",
       "      <td>2020-04-18 10:22:59</td>\n",
       "      <td>2020-04-18 11:15:54</td>\n",
       "      <td>Rush St &amp; Hubbard St</td>\n",
       "      <td>125</td>\n",
       "      <td>Sheridan Rd &amp; Lawrence Ave</td>\n",
       "      <td>323.0</td>\n",
       "      <td>41.8902</td>\n",
       "      <td>-87.6262</td>\n",
       "      <td>41.9695</td>\n",
       "      <td>-87.6547</td>\n",
       "      <td>casual</td>\n",
       "      <td>0 days 00:52:55</td>\n",
       "      <td>0.0793</td>\n",
       "      <td>-0.0285</td>\n",
       "      <td>5</td>\n",
       "    </tr>\n",
       "  </tbody>\n",
       "</table>\n",
       "</div>"
      ],
      "text/plain": [
       "            ride_id rideable_type          started_at            ended_at  \\\n",
       "0  A847FADBBC638E45   docked_bike 2020-04-26 17:45:14 2020-04-26 18:12:03   \n",
       "1  5405B80E996FF60D   docked_bike 2020-04-17 17:08:54 2020-04-17 17:17:03   \n",
       "2  5DD24A79A4E006F4   docked_bike 2020-04-01 17:54:13 2020-04-01 18:08:36   \n",
       "3  2A59BBDF5CDBA725   docked_bike 2020-04-07 12:50:19 2020-04-07 13:02:31   \n",
       "4  27AD306C119C6158   docked_bike 2020-04-18 10:22:59 2020-04-18 11:15:54   \n",
       "\n",
       "             start_station_name  start_station_id  \\\n",
       "0                  Eckhart Park                86   \n",
       "1     Drake Ave & Fullerton Ave               503   \n",
       "2          McClurg Ct & Erie St               142   \n",
       "3  California Ave & Division St               216   \n",
       "4          Rush St & Hubbard St               125   \n",
       "\n",
       "              end_station_name  end_station_id  start_lat  start_lng  end_lat  \\\n",
       "0  Lincoln Ave & Diversey Pkwy           152.0    41.8964   -87.6610  41.9322   \n",
       "1              Kosciuszko Park           499.0    41.9244   -87.7154  41.9306   \n",
       "2   Indiana Ave & Roosevelt Rd           255.0    41.8945   -87.6179  41.8679   \n",
       "3       Wood St & Augusta Blvd           657.0    41.9030   -87.6975  41.8992   \n",
       "4   Sheridan Rd & Lawrence Ave           323.0    41.8902   -87.6262  41.9695   \n",
       "\n",
       "   end_lng member_casual     ride_length  lat_length  lng_length  weekday  \n",
       "0 -87.6586        member 0 days 00:26:49      0.0358      0.0024        6  \n",
       "1 -87.7238        member 0 days 00:08:09      0.0062     -0.0084        4  \n",
       "2 -87.6230        member 0 days 00:14:23     -0.0266     -0.0051        2  \n",
       "3 -87.6722        member 0 days 00:12:12     -0.0038      0.0253        1  \n",
       "4 -87.6547        casual 0 days 00:52:55      0.0793     -0.0285        5  "
      ]
     },
     "execution_count": 12,
     "metadata": {},
     "output_type": "execute_result"
    }
   ],
   "source": [
    "# checking\n",
    "\n",
    "df.head(5)"
   ]
  },
  {
   "cell_type": "code",
   "execution_count": 13,
   "id": "0bc90712",
   "metadata": {},
   "outputs": [],
   "source": [
    "# Dropping off the unused column.\n",
    "\n",
    "df = df.drop(['start_station_id', 'start_lat', 'start_lng', 'started_at','end_lat','ended_at','start_station_id', 'end_station_id', 'end_lng', 'ride_id'],axis= 1)"
   ]
  },
  {
   "cell_type": "code",
   "execution_count": 14,
   "id": "0febfdc3",
   "metadata": {},
   "outputs": [
    {
     "data": {
      "text/html": [
       "<div>\n",
       "<style scoped>\n",
       "    .dataframe tbody tr th:only-of-type {\n",
       "        vertical-align: middle;\n",
       "    }\n",
       "\n",
       "    .dataframe tbody tr th {\n",
       "        vertical-align: top;\n",
       "    }\n",
       "\n",
       "    .dataframe thead th {\n",
       "        text-align: right;\n",
       "    }\n",
       "</style>\n",
       "<table border=\"1\" class=\"dataframe\">\n",
       "  <thead>\n",
       "    <tr style=\"text-align: right;\">\n",
       "      <th></th>\n",
       "      <th>rideable_type</th>\n",
       "      <th>start_station_name</th>\n",
       "      <th>end_station_name</th>\n",
       "      <th>member_casual</th>\n",
       "      <th>ride_length</th>\n",
       "      <th>lat_length</th>\n",
       "      <th>lng_length</th>\n",
       "      <th>weekday</th>\n",
       "    </tr>\n",
       "  </thead>\n",
       "  <tbody>\n",
       "    <tr>\n",
       "      <th>0</th>\n",
       "      <td>docked_bike</td>\n",
       "      <td>Eckhart Park</td>\n",
       "      <td>Lincoln Ave &amp; Diversey Pkwy</td>\n",
       "      <td>member</td>\n",
       "      <td>0 days 00:26:49</td>\n",
       "      <td>0.035800</td>\n",
       "      <td>0.002400</td>\n",
       "      <td>6</td>\n",
       "    </tr>\n",
       "    <tr>\n",
       "      <th>1</th>\n",
       "      <td>docked_bike</td>\n",
       "      <td>Drake Ave &amp; Fullerton Ave</td>\n",
       "      <td>Kosciuszko Park</td>\n",
       "      <td>member</td>\n",
       "      <td>0 days 00:08:09</td>\n",
       "      <td>0.006200</td>\n",
       "      <td>-0.008400</td>\n",
       "      <td>4</td>\n",
       "    </tr>\n",
       "    <tr>\n",
       "      <th>2</th>\n",
       "      <td>docked_bike</td>\n",
       "      <td>McClurg Ct &amp; Erie St</td>\n",
       "      <td>Indiana Ave &amp; Roosevelt Rd</td>\n",
       "      <td>member</td>\n",
       "      <td>0 days 00:14:23</td>\n",
       "      <td>-0.026600</td>\n",
       "      <td>-0.005100</td>\n",
       "      <td>2</td>\n",
       "    </tr>\n",
       "    <tr>\n",
       "      <th>3</th>\n",
       "      <td>docked_bike</td>\n",
       "      <td>California Ave &amp; Division St</td>\n",
       "      <td>Wood St &amp; Augusta Blvd</td>\n",
       "      <td>member</td>\n",
       "      <td>0 days 00:12:12</td>\n",
       "      <td>-0.003800</td>\n",
       "      <td>0.025300</td>\n",
       "      <td>1</td>\n",
       "    </tr>\n",
       "    <tr>\n",
       "      <th>4</th>\n",
       "      <td>docked_bike</td>\n",
       "      <td>Rush St &amp; Hubbard St</td>\n",
       "      <td>Sheridan Rd &amp; Lawrence Ave</td>\n",
       "      <td>casual</td>\n",
       "      <td>0 days 00:52:55</td>\n",
       "      <td>0.079300</td>\n",
       "      <td>-0.028500</td>\n",
       "      <td>5</td>\n",
       "    </tr>\n",
       "    <tr>\n",
       "      <th>...</th>\n",
       "      <td>...</td>\n",
       "      <td>...</td>\n",
       "      <td>...</td>\n",
       "      <td>...</td>\n",
       "      <td>...</td>\n",
       "      <td>...</td>\n",
       "      <td>...</td>\n",
       "      <td>...</td>\n",
       "    </tr>\n",
       "    <tr>\n",
       "      <th>343000</th>\n",
       "      <td>docked_bike</td>\n",
       "      <td>Western Ave &amp; Division St</td>\n",
       "      <td>Canal St &amp; Jackson Blvd</td>\n",
       "      <td>member</td>\n",
       "      <td>0 days 00:24:08</td>\n",
       "      <td>-0.025648</td>\n",
       "      <td>0.047909</td>\n",
       "      <td>1</td>\n",
       "    </tr>\n",
       "    <tr>\n",
       "      <th>343001</th>\n",
       "      <td>docked_bike</td>\n",
       "      <td>Broadway &amp; Cornelia Ave</td>\n",
       "      <td>Wells St &amp; Concord Ln</td>\n",
       "      <td>casual</td>\n",
       "      <td>0 days 00:22:18</td>\n",
       "      <td>-0.033396</td>\n",
       "      <td>0.011783</td>\n",
       "      <td>5</td>\n",
       "    </tr>\n",
       "    <tr>\n",
       "      <th>343002</th>\n",
       "      <td>docked_bike</td>\n",
       "      <td>Kingsbury St &amp; Kinzie St</td>\n",
       "      <td>Clark St &amp; Lincoln Ave</td>\n",
       "      <td>casual</td>\n",
       "      <td>0 days 00:16:49</td>\n",
       "      <td>0.026513</td>\n",
       "      <td>0.003905</td>\n",
       "      <td>1</td>\n",
       "    </tr>\n",
       "    <tr>\n",
       "      <th>343003</th>\n",
       "      <td>docked_bike</td>\n",
       "      <td>Canal St &amp; Jackson Blvd</td>\n",
       "      <td>Stetson Ave &amp; South Water St</td>\n",
       "      <td>casual</td>\n",
       "      <td>0 days 00:12:33</td>\n",
       "      <td>0.009590</td>\n",
       "      <td>0.017046</td>\n",
       "      <td>2</td>\n",
       "    </tr>\n",
       "    <tr>\n",
       "      <th>343004</th>\n",
       "      <td>docked_bike</td>\n",
       "      <td>Wells St &amp; Elm St</td>\n",
       "      <td>Sheffield Ave &amp; Wellington Ave</td>\n",
       "      <td>casual</td>\n",
       "      <td>0 days 00:21:55</td>\n",
       "      <td>0.033044</td>\n",
       "      <td>-0.018338</td>\n",
       "      <td>5</td>\n",
       "    </tr>\n",
       "  </tbody>\n",
       "</table>\n",
       "<p>427781 rows × 8 columns</p>\n",
       "</div>"
      ],
      "text/plain": [
       "       rideable_type            start_station_name  \\\n",
       "0        docked_bike                  Eckhart Park   \n",
       "1        docked_bike     Drake Ave & Fullerton Ave   \n",
       "2        docked_bike          McClurg Ct & Erie St   \n",
       "3        docked_bike  California Ave & Division St   \n",
       "4        docked_bike          Rush St & Hubbard St   \n",
       "...              ...                           ...   \n",
       "343000   docked_bike     Western Ave & Division St   \n",
       "343001   docked_bike       Broadway & Cornelia Ave   \n",
       "343002   docked_bike      Kingsbury St & Kinzie St   \n",
       "343003   docked_bike       Canal St & Jackson Blvd   \n",
       "343004   docked_bike             Wells St & Elm St   \n",
       "\n",
       "                      end_station_name member_casual     ride_length  \\\n",
       "0          Lincoln Ave & Diversey Pkwy        member 0 days 00:26:49   \n",
       "1                      Kosciuszko Park        member 0 days 00:08:09   \n",
       "2           Indiana Ave & Roosevelt Rd        member 0 days 00:14:23   \n",
       "3               Wood St & Augusta Blvd        member 0 days 00:12:12   \n",
       "4           Sheridan Rd & Lawrence Ave        casual 0 days 00:52:55   \n",
       "...                                ...           ...             ...   \n",
       "343000         Canal St & Jackson Blvd        member 0 days 00:24:08   \n",
       "343001           Wells St & Concord Ln        casual 0 days 00:22:18   \n",
       "343002          Clark St & Lincoln Ave        casual 0 days 00:16:49   \n",
       "343003    Stetson Ave & South Water St        casual 0 days 00:12:33   \n",
       "343004  Sheffield Ave & Wellington Ave        casual 0 days 00:21:55   \n",
       "\n",
       "        lat_length  lng_length  weekday  \n",
       "0         0.035800    0.002400        6  \n",
       "1         0.006200   -0.008400        4  \n",
       "2        -0.026600   -0.005100        2  \n",
       "3        -0.003800    0.025300        1  \n",
       "4         0.079300   -0.028500        5  \n",
       "...            ...         ...      ...  \n",
       "343000   -0.025648    0.047909        1  \n",
       "343001   -0.033396    0.011783        5  \n",
       "343002    0.026513    0.003905        1  \n",
       "343003    0.009590    0.017046        2  \n",
       "343004    0.033044   -0.018338        5  \n",
       "\n",
       "[427781 rows x 8 columns]"
      ]
     },
     "execution_count": 14,
     "metadata": {},
     "output_type": "execute_result"
    }
   ],
   "source": [
    "# copy the file\n",
    "\n",
    "df_copy = df.copy()\n",
    "\n",
    "df_copy"
   ]
  },
  {
   "cell_type": "code",
   "execution_count": 15,
   "id": "90da41e4",
   "metadata": {},
   "outputs": [],
   "source": [
    "# mapping the weekdays with str values by dictionary, else get NaNs for not matched values:\n",
    "\n",
    "df_copy['weekday'] = df_copy['weekday'].map({0:'sunday', 1:'monday', 2:'tuesday', 3:'wednesday', 4:'thursday', 5:'friday', 6:'saturday' }) "
   ]
  },
  {
   "cell_type": "code",
   "execution_count": 16,
   "id": "cf9b3a2d",
   "metadata": {},
   "outputs": [
    {
     "data": {
      "text/html": [
       "<div>\n",
       "<style scoped>\n",
       "    .dataframe tbody tr th:only-of-type {\n",
       "        vertical-align: middle;\n",
       "    }\n",
       "\n",
       "    .dataframe tbody tr th {\n",
       "        vertical-align: top;\n",
       "    }\n",
       "\n",
       "    .dataframe thead th {\n",
       "        text-align: right;\n",
       "    }\n",
       "</style>\n",
       "<table border=\"1\" class=\"dataframe\">\n",
       "  <thead>\n",
       "    <tr style=\"text-align: right;\">\n",
       "      <th></th>\n",
       "      <th>rideable_type</th>\n",
       "      <th>start_station_name</th>\n",
       "      <th>end_station_name</th>\n",
       "      <th>member_casual</th>\n",
       "      <th>ride_length</th>\n",
       "      <th>lat_length</th>\n",
       "      <th>lng_length</th>\n",
       "      <th>weekday</th>\n",
       "    </tr>\n",
       "  </thead>\n",
       "  <tbody>\n",
       "    <tr>\n",
       "      <th>0</th>\n",
       "      <td>docked_bike</td>\n",
       "      <td>Eckhart Park</td>\n",
       "      <td>Lincoln Ave &amp; Diversey Pkwy</td>\n",
       "      <td>member</td>\n",
       "      <td>0 days 00:26:49</td>\n",
       "      <td>0.035800</td>\n",
       "      <td>0.002400</td>\n",
       "      <td>saturday</td>\n",
       "    </tr>\n",
       "    <tr>\n",
       "      <th>1</th>\n",
       "      <td>docked_bike</td>\n",
       "      <td>Drake Ave &amp; Fullerton Ave</td>\n",
       "      <td>Kosciuszko Park</td>\n",
       "      <td>member</td>\n",
       "      <td>0 days 00:08:09</td>\n",
       "      <td>0.006200</td>\n",
       "      <td>-0.008400</td>\n",
       "      <td>thursday</td>\n",
       "    </tr>\n",
       "    <tr>\n",
       "      <th>2</th>\n",
       "      <td>docked_bike</td>\n",
       "      <td>McClurg Ct &amp; Erie St</td>\n",
       "      <td>Indiana Ave &amp; Roosevelt Rd</td>\n",
       "      <td>member</td>\n",
       "      <td>0 days 00:14:23</td>\n",
       "      <td>-0.026600</td>\n",
       "      <td>-0.005100</td>\n",
       "      <td>tuesday</td>\n",
       "    </tr>\n",
       "    <tr>\n",
       "      <th>3</th>\n",
       "      <td>docked_bike</td>\n",
       "      <td>California Ave &amp; Division St</td>\n",
       "      <td>Wood St &amp; Augusta Blvd</td>\n",
       "      <td>member</td>\n",
       "      <td>0 days 00:12:12</td>\n",
       "      <td>-0.003800</td>\n",
       "      <td>0.025300</td>\n",
       "      <td>monday</td>\n",
       "    </tr>\n",
       "    <tr>\n",
       "      <th>4</th>\n",
       "      <td>docked_bike</td>\n",
       "      <td>Rush St &amp; Hubbard St</td>\n",
       "      <td>Sheridan Rd &amp; Lawrence Ave</td>\n",
       "      <td>casual</td>\n",
       "      <td>0 days 00:52:55</td>\n",
       "      <td>0.079300</td>\n",
       "      <td>-0.028500</td>\n",
       "      <td>friday</td>\n",
       "    </tr>\n",
       "    <tr>\n",
       "      <th>...</th>\n",
       "      <td>...</td>\n",
       "      <td>...</td>\n",
       "      <td>...</td>\n",
       "      <td>...</td>\n",
       "      <td>...</td>\n",
       "      <td>...</td>\n",
       "      <td>...</td>\n",
       "      <td>...</td>\n",
       "    </tr>\n",
       "    <tr>\n",
       "      <th>343000</th>\n",
       "      <td>docked_bike</td>\n",
       "      <td>Western Ave &amp; Division St</td>\n",
       "      <td>Canal St &amp; Jackson Blvd</td>\n",
       "      <td>member</td>\n",
       "      <td>0 days 00:24:08</td>\n",
       "      <td>-0.025648</td>\n",
       "      <td>0.047909</td>\n",
       "      <td>monday</td>\n",
       "    </tr>\n",
       "    <tr>\n",
       "      <th>343001</th>\n",
       "      <td>docked_bike</td>\n",
       "      <td>Broadway &amp; Cornelia Ave</td>\n",
       "      <td>Wells St &amp; Concord Ln</td>\n",
       "      <td>casual</td>\n",
       "      <td>0 days 00:22:18</td>\n",
       "      <td>-0.033396</td>\n",
       "      <td>0.011783</td>\n",
       "      <td>friday</td>\n",
       "    </tr>\n",
       "    <tr>\n",
       "      <th>343002</th>\n",
       "      <td>docked_bike</td>\n",
       "      <td>Kingsbury St &amp; Kinzie St</td>\n",
       "      <td>Clark St &amp; Lincoln Ave</td>\n",
       "      <td>casual</td>\n",
       "      <td>0 days 00:16:49</td>\n",
       "      <td>0.026513</td>\n",
       "      <td>0.003905</td>\n",
       "      <td>monday</td>\n",
       "    </tr>\n",
       "    <tr>\n",
       "      <th>343003</th>\n",
       "      <td>docked_bike</td>\n",
       "      <td>Canal St &amp; Jackson Blvd</td>\n",
       "      <td>Stetson Ave &amp; South Water St</td>\n",
       "      <td>casual</td>\n",
       "      <td>0 days 00:12:33</td>\n",
       "      <td>0.009590</td>\n",
       "      <td>0.017046</td>\n",
       "      <td>tuesday</td>\n",
       "    </tr>\n",
       "    <tr>\n",
       "      <th>343004</th>\n",
       "      <td>docked_bike</td>\n",
       "      <td>Wells St &amp; Elm St</td>\n",
       "      <td>Sheffield Ave &amp; Wellington Ave</td>\n",
       "      <td>casual</td>\n",
       "      <td>0 days 00:21:55</td>\n",
       "      <td>0.033044</td>\n",
       "      <td>-0.018338</td>\n",
       "      <td>friday</td>\n",
       "    </tr>\n",
       "  </tbody>\n",
       "</table>\n",
       "<p>427781 rows × 8 columns</p>\n",
       "</div>"
      ],
      "text/plain": [
       "       rideable_type            start_station_name  \\\n",
       "0        docked_bike                  Eckhart Park   \n",
       "1        docked_bike     Drake Ave & Fullerton Ave   \n",
       "2        docked_bike          McClurg Ct & Erie St   \n",
       "3        docked_bike  California Ave & Division St   \n",
       "4        docked_bike          Rush St & Hubbard St   \n",
       "...              ...                           ...   \n",
       "343000   docked_bike     Western Ave & Division St   \n",
       "343001   docked_bike       Broadway & Cornelia Ave   \n",
       "343002   docked_bike      Kingsbury St & Kinzie St   \n",
       "343003   docked_bike       Canal St & Jackson Blvd   \n",
       "343004   docked_bike             Wells St & Elm St   \n",
       "\n",
       "                      end_station_name member_casual     ride_length  \\\n",
       "0          Lincoln Ave & Diversey Pkwy        member 0 days 00:26:49   \n",
       "1                      Kosciuszko Park        member 0 days 00:08:09   \n",
       "2           Indiana Ave & Roosevelt Rd        member 0 days 00:14:23   \n",
       "3               Wood St & Augusta Blvd        member 0 days 00:12:12   \n",
       "4           Sheridan Rd & Lawrence Ave        casual 0 days 00:52:55   \n",
       "...                                ...           ...             ...   \n",
       "343000         Canal St & Jackson Blvd        member 0 days 00:24:08   \n",
       "343001           Wells St & Concord Ln        casual 0 days 00:22:18   \n",
       "343002          Clark St & Lincoln Ave        casual 0 days 00:16:49   \n",
       "343003    Stetson Ave & South Water St        casual 0 days 00:12:33   \n",
       "343004  Sheffield Ave & Wellington Ave        casual 0 days 00:21:55   \n",
       "\n",
       "        lat_length  lng_length   weekday  \n",
       "0         0.035800    0.002400  saturday  \n",
       "1         0.006200   -0.008400  thursday  \n",
       "2        -0.026600   -0.005100   tuesday  \n",
       "3        -0.003800    0.025300    monday  \n",
       "4         0.079300   -0.028500    friday  \n",
       "...            ...         ...       ...  \n",
       "343000   -0.025648    0.047909    monday  \n",
       "343001   -0.033396    0.011783    friday  \n",
       "343002    0.026513    0.003905    monday  \n",
       "343003    0.009590    0.017046   tuesday  \n",
       "343004    0.033044   -0.018338    friday  \n",
       "\n",
       "[427781 rows x 8 columns]"
      ]
     },
     "execution_count": 16,
     "metadata": {},
     "output_type": "execute_result"
    }
   ],
   "source": [
    "df_copy"
   ]
  },
  {
   "cell_type": "code",
   "execution_count": 18,
   "id": "75c7d41b",
   "metadata": {},
   "outputs": [
    {
     "data": {
      "text/html": [
       "<div>\n",
       "<style scoped>\n",
       "    .dataframe tbody tr th:only-of-type {\n",
       "        vertical-align: middle;\n",
       "    }\n",
       "\n",
       "    .dataframe tbody tr th {\n",
       "        vertical-align: top;\n",
       "    }\n",
       "\n",
       "    .dataframe thead th {\n",
       "        text-align: right;\n",
       "    }\n",
       "</style>\n",
       "<table border=\"1\" class=\"dataframe\">\n",
       "  <thead>\n",
       "    <tr style=\"text-align: right;\">\n",
       "      <th></th>\n",
       "      <th>rideable_type</th>\n",
       "      <th>start_station_name</th>\n",
       "      <th>end_station_name</th>\n",
       "      <th>member_casual</th>\n",
       "      <th>ride_length</th>\n",
       "      <th>lat_length</th>\n",
       "      <th>lng_length</th>\n",
       "      <th>weekday</th>\n",
       "    </tr>\n",
       "  </thead>\n",
       "  <tbody>\n",
       "    <tr>\n",
       "      <th>0</th>\n",
       "      <td>docked_bike</td>\n",
       "      <td>Eckhart Park</td>\n",
       "      <td>Lincoln Ave &amp; Diversey Pkwy</td>\n",
       "      <td>member</td>\n",
       "      <td>0 days 00:26:49</td>\n",
       "      <td>0.035800</td>\n",
       "      <td>0.002400</td>\n",
       "      <td>saturday</td>\n",
       "    </tr>\n",
       "    <tr>\n",
       "      <th>1</th>\n",
       "      <td>docked_bike</td>\n",
       "      <td>Drake Ave &amp; Fullerton Ave</td>\n",
       "      <td>Kosciuszko Park</td>\n",
       "      <td>member</td>\n",
       "      <td>0 days 00:08:09</td>\n",
       "      <td>0.006200</td>\n",
       "      <td>-0.008400</td>\n",
       "      <td>thursday</td>\n",
       "    </tr>\n",
       "    <tr>\n",
       "      <th>2</th>\n",
       "      <td>docked_bike</td>\n",
       "      <td>McClurg Ct &amp; Erie St</td>\n",
       "      <td>Indiana Ave &amp; Roosevelt Rd</td>\n",
       "      <td>member</td>\n",
       "      <td>0 days 00:14:23</td>\n",
       "      <td>-0.026600</td>\n",
       "      <td>-0.005100</td>\n",
       "      <td>tuesday</td>\n",
       "    </tr>\n",
       "    <tr>\n",
       "      <th>3</th>\n",
       "      <td>docked_bike</td>\n",
       "      <td>California Ave &amp; Division St</td>\n",
       "      <td>Wood St &amp; Augusta Blvd</td>\n",
       "      <td>member</td>\n",
       "      <td>0 days 00:12:12</td>\n",
       "      <td>-0.003800</td>\n",
       "      <td>0.025300</td>\n",
       "      <td>monday</td>\n",
       "    </tr>\n",
       "    <tr>\n",
       "      <th>4</th>\n",
       "      <td>docked_bike</td>\n",
       "      <td>Rush St &amp; Hubbard St</td>\n",
       "      <td>Sheridan Rd &amp; Lawrence Ave</td>\n",
       "      <td>casual</td>\n",
       "      <td>0 days 00:52:55</td>\n",
       "      <td>0.079300</td>\n",
       "      <td>-0.028500</td>\n",
       "      <td>friday</td>\n",
       "    </tr>\n",
       "    <tr>\n",
       "      <th>...</th>\n",
       "      <td>...</td>\n",
       "      <td>...</td>\n",
       "      <td>...</td>\n",
       "      <td>...</td>\n",
       "      <td>...</td>\n",
       "      <td>...</td>\n",
       "      <td>...</td>\n",
       "      <td>...</td>\n",
       "    </tr>\n",
       "    <tr>\n",
       "      <th>343000</th>\n",
       "      <td>docked_bike</td>\n",
       "      <td>Western Ave &amp; Division St</td>\n",
       "      <td>Canal St &amp; Jackson Blvd</td>\n",
       "      <td>member</td>\n",
       "      <td>0 days 00:24:08</td>\n",
       "      <td>-0.025648</td>\n",
       "      <td>0.047909</td>\n",
       "      <td>monday</td>\n",
       "    </tr>\n",
       "    <tr>\n",
       "      <th>343001</th>\n",
       "      <td>docked_bike</td>\n",
       "      <td>Broadway &amp; Cornelia Ave</td>\n",
       "      <td>Wells St &amp; Concord Ln</td>\n",
       "      <td>casual</td>\n",
       "      <td>0 days 00:22:18</td>\n",
       "      <td>-0.033396</td>\n",
       "      <td>0.011783</td>\n",
       "      <td>friday</td>\n",
       "    </tr>\n",
       "    <tr>\n",
       "      <th>343002</th>\n",
       "      <td>docked_bike</td>\n",
       "      <td>Kingsbury St &amp; Kinzie St</td>\n",
       "      <td>Clark St &amp; Lincoln Ave</td>\n",
       "      <td>casual</td>\n",
       "      <td>0 days 00:16:49</td>\n",
       "      <td>0.026513</td>\n",
       "      <td>0.003905</td>\n",
       "      <td>monday</td>\n",
       "    </tr>\n",
       "    <tr>\n",
       "      <th>343003</th>\n",
       "      <td>docked_bike</td>\n",
       "      <td>Canal St &amp; Jackson Blvd</td>\n",
       "      <td>Stetson Ave &amp; South Water St</td>\n",
       "      <td>casual</td>\n",
       "      <td>0 days 00:12:33</td>\n",
       "      <td>0.009590</td>\n",
       "      <td>0.017046</td>\n",
       "      <td>tuesday</td>\n",
       "    </tr>\n",
       "    <tr>\n",
       "      <th>343004</th>\n",
       "      <td>docked_bike</td>\n",
       "      <td>Wells St &amp; Elm St</td>\n",
       "      <td>Sheffield Ave &amp; Wellington Ave</td>\n",
       "      <td>casual</td>\n",
       "      <td>0 days 00:21:55</td>\n",
       "      <td>0.033044</td>\n",
       "      <td>-0.018338</td>\n",
       "      <td>friday</td>\n",
       "    </tr>\n",
       "  </tbody>\n",
       "</table>\n",
       "<p>427214 rows × 8 columns</p>\n",
       "</div>"
      ],
      "text/plain": [
       "       rideable_type            start_station_name  \\\n",
       "0        docked_bike                  Eckhart Park   \n",
       "1        docked_bike     Drake Ave & Fullerton Ave   \n",
       "2        docked_bike          McClurg Ct & Erie St   \n",
       "3        docked_bike  California Ave & Division St   \n",
       "4        docked_bike          Rush St & Hubbard St   \n",
       "...              ...                           ...   \n",
       "343000   docked_bike     Western Ave & Division St   \n",
       "343001   docked_bike       Broadway & Cornelia Ave   \n",
       "343002   docked_bike      Kingsbury St & Kinzie St   \n",
       "343003   docked_bike       Canal St & Jackson Blvd   \n",
       "343004   docked_bike             Wells St & Elm St   \n",
       "\n",
       "                      end_station_name member_casual     ride_length  \\\n",
       "0          Lincoln Ave & Diversey Pkwy        member 0 days 00:26:49   \n",
       "1                      Kosciuszko Park        member 0 days 00:08:09   \n",
       "2           Indiana Ave & Roosevelt Rd        member 0 days 00:14:23   \n",
       "3               Wood St & Augusta Blvd        member 0 days 00:12:12   \n",
       "4           Sheridan Rd & Lawrence Ave        casual 0 days 00:52:55   \n",
       "...                                ...           ...             ...   \n",
       "343000         Canal St & Jackson Blvd        member 0 days 00:24:08   \n",
       "343001           Wells St & Concord Ln        casual 0 days 00:22:18   \n",
       "343002          Clark St & Lincoln Ave        casual 0 days 00:16:49   \n",
       "343003    Stetson Ave & South Water St        casual 0 days 00:12:33   \n",
       "343004  Sheffield Ave & Wellington Ave        casual 0 days 00:21:55   \n",
       "\n",
       "        lat_length  lng_length   weekday  \n",
       "0         0.035800    0.002400  saturday  \n",
       "1         0.006200   -0.008400  thursday  \n",
       "2        -0.026600   -0.005100   tuesday  \n",
       "3        -0.003800    0.025300    monday  \n",
       "4         0.079300   -0.028500    friday  \n",
       "...            ...         ...       ...  \n",
       "343000   -0.025648    0.047909    monday  \n",
       "343001   -0.033396    0.011783    friday  \n",
       "343002    0.026513    0.003905    monday  \n",
       "343003    0.009590    0.017046   tuesday  \n",
       "343004    0.033044   -0.018338    friday  \n",
       "\n",
       "[427214 rows x 8 columns]"
      ]
     },
     "execution_count": 18,
     "metadata": {},
     "output_type": "execute_result"
    }
   ],
   "source": [
    "# dropping of the null values\n",
    "\n",
    "df_copy.dropna()"
   ]
  },
  {
   "cell_type": "code",
   "execution_count": 21,
   "id": "3398b0c2",
   "metadata": {},
   "outputs": [],
   "source": [
    "## drop off duplicates.\n",
    "\n",
    "df_copy.drop_duplicates(inplace=True)"
   ]
  },
  {
   "cell_type": "code",
   "execution_count": 22,
   "id": "5e235ae0",
   "metadata": {},
   "outputs": [],
   "source": [
    "# copying of the file again because i want to split the data frame into member and casual data\n",
    "\n",
    "df_copy_2 = df_copy.copy()"
   ]
  },
  {
   "cell_type": "code",
   "execution_count": 23,
   "id": "c48233e3",
   "metadata": {},
   "outputs": [],
   "source": [
    "# grouping into different members\n",
    "\n",
    "df_member = df_copy_2[df_copy_2['member_casual']== 'member']\n",
    "df_casual = df_copy_2[df_copy_2['member_casual']== 'casual']"
   ]
  },
  {
   "cell_type": "code",
   "execution_count": 24,
   "id": "0fb82fcf",
   "metadata": {},
   "outputs": [
    {
     "data": {
      "text/html": [
       "<div>\n",
       "<style scoped>\n",
       "    .dataframe tbody tr th:only-of-type {\n",
       "        vertical-align: middle;\n",
       "    }\n",
       "\n",
       "    .dataframe tbody tr th {\n",
       "        vertical-align: top;\n",
       "    }\n",
       "\n",
       "    .dataframe thead th {\n",
       "        text-align: right;\n",
       "    }\n",
       "</style>\n",
       "<table border=\"1\" class=\"dataframe\">\n",
       "  <thead>\n",
       "    <tr style=\"text-align: right;\">\n",
       "      <th></th>\n",
       "      <th>rideable_type</th>\n",
       "      <th>start_station_name</th>\n",
       "      <th>end_station_name</th>\n",
       "      <th>member_casual</th>\n",
       "      <th>ride_length</th>\n",
       "      <th>lat_length</th>\n",
       "      <th>lng_length</th>\n",
       "      <th>weekday</th>\n",
       "    </tr>\n",
       "  </thead>\n",
       "  <tbody>\n",
       "    <tr>\n",
       "      <th>0</th>\n",
       "      <td>docked_bike</td>\n",
       "      <td>Eckhart Park</td>\n",
       "      <td>Lincoln Ave &amp; Diversey Pkwy</td>\n",
       "      <td>member</td>\n",
       "      <td>0 days 00:26:49</td>\n",
       "      <td>0.0358</td>\n",
       "      <td>0.0024</td>\n",
       "      <td>saturday</td>\n",
       "    </tr>\n",
       "    <tr>\n",
       "      <th>1</th>\n",
       "      <td>docked_bike</td>\n",
       "      <td>Drake Ave &amp; Fullerton Ave</td>\n",
       "      <td>Kosciuszko Park</td>\n",
       "      <td>member</td>\n",
       "      <td>0 days 00:08:09</td>\n",
       "      <td>0.0062</td>\n",
       "      <td>-0.0084</td>\n",
       "      <td>thursday</td>\n",
       "    </tr>\n",
       "    <tr>\n",
       "      <th>2</th>\n",
       "      <td>docked_bike</td>\n",
       "      <td>McClurg Ct &amp; Erie St</td>\n",
       "      <td>Indiana Ave &amp; Roosevelt Rd</td>\n",
       "      <td>member</td>\n",
       "      <td>0 days 00:14:23</td>\n",
       "      <td>-0.0266</td>\n",
       "      <td>-0.0051</td>\n",
       "      <td>tuesday</td>\n",
       "    </tr>\n",
       "  </tbody>\n",
       "</table>\n",
       "</div>"
      ],
      "text/plain": [
       "  rideable_type         start_station_name             end_station_name  \\\n",
       "0   docked_bike               Eckhart Park  Lincoln Ave & Diversey Pkwy   \n",
       "1   docked_bike  Drake Ave & Fullerton Ave              Kosciuszko Park   \n",
       "2   docked_bike       McClurg Ct & Erie St   Indiana Ave & Roosevelt Rd   \n",
       "\n",
       "  member_casual     ride_length  lat_length  lng_length   weekday  \n",
       "0        member 0 days 00:26:49      0.0358      0.0024  saturday  \n",
       "1        member 0 days 00:08:09      0.0062     -0.0084  thursday  \n",
       "2        member 0 days 00:14:23     -0.0266     -0.0051   tuesday  "
      ]
     },
     "execution_count": 24,
     "metadata": {},
     "output_type": "execute_result"
    }
   ],
   "source": [
    "# confirming the grouping\n",
    "\n",
    "df_member.head(3)"
   ]
  },
  {
   "cell_type": "code",
   "execution_count": 25,
   "id": "9f590992",
   "metadata": {},
   "outputs": [
    {
     "data": {
      "text/html": [
       "<div>\n",
       "<style scoped>\n",
       "    .dataframe tbody tr th:only-of-type {\n",
       "        vertical-align: middle;\n",
       "    }\n",
       "\n",
       "    .dataframe tbody tr th {\n",
       "        vertical-align: top;\n",
       "    }\n",
       "\n",
       "    .dataframe thead th {\n",
       "        text-align: right;\n",
       "    }\n",
       "</style>\n",
       "<table border=\"1\" class=\"dataframe\">\n",
       "  <thead>\n",
       "    <tr style=\"text-align: right;\">\n",
       "      <th></th>\n",
       "      <th>rideable_type</th>\n",
       "      <th>start_station_name</th>\n",
       "      <th>end_station_name</th>\n",
       "      <th>member_casual</th>\n",
       "      <th>ride_length</th>\n",
       "      <th>lat_length</th>\n",
       "      <th>lng_length</th>\n",
       "      <th>weekday</th>\n",
       "    </tr>\n",
       "  </thead>\n",
       "  <tbody>\n",
       "    <tr>\n",
       "      <th>4</th>\n",
       "      <td>docked_bike</td>\n",
       "      <td>Rush St &amp; Hubbard St</td>\n",
       "      <td>Sheridan Rd &amp; Lawrence Ave</td>\n",
       "      <td>casual</td>\n",
       "      <td>0 days 00:52:55</td>\n",
       "      <td>0.0793</td>\n",
       "      <td>-0.0285</td>\n",
       "      <td>friday</td>\n",
       "    </tr>\n",
       "    <tr>\n",
       "      <th>7</th>\n",
       "      <td>docked_bike</td>\n",
       "      <td>Ogden Ave &amp; Roosevelt Rd</td>\n",
       "      <td>Western Ave &amp; Congress Pkwy</td>\n",
       "      <td>casual</td>\n",
       "      <td>0 days 01:15:49</td>\n",
       "      <td>0.0082</td>\n",
       "      <td>-0.0017</td>\n",
       "      <td>monday</td>\n",
       "    </tr>\n",
       "    <tr>\n",
       "      <th>8</th>\n",
       "      <td>docked_bike</td>\n",
       "      <td>LaSalle Dr &amp; Huron St</td>\n",
       "      <td>Larrabee St &amp; Division St</td>\n",
       "      <td>casual</td>\n",
       "      <td>0 days 00:05:44</td>\n",
       "      <td>0.0086</td>\n",
       "      <td>-0.0111</td>\n",
       "      <td>tuesday</td>\n",
       "    </tr>\n",
       "  </tbody>\n",
       "</table>\n",
       "</div>"
      ],
      "text/plain": [
       "  rideable_type        start_station_name             end_station_name  \\\n",
       "4   docked_bike      Rush St & Hubbard St   Sheridan Rd & Lawrence Ave   \n",
       "7   docked_bike  Ogden Ave & Roosevelt Rd  Western Ave & Congress Pkwy   \n",
       "8   docked_bike     LaSalle Dr & Huron St    Larrabee St & Division St   \n",
       "\n",
       "  member_casual     ride_length  lat_length  lng_length  weekday  \n",
       "4        casual 0 days 00:52:55      0.0793     -0.0285   friday  \n",
       "7        casual 0 days 01:15:49      0.0082     -0.0017   monday  \n",
       "8        casual 0 days 00:05:44      0.0086     -0.0111  tuesday  "
      ]
     },
     "execution_count": 25,
     "metadata": {},
     "output_type": "execute_result"
    }
   ],
   "source": [
    "# confirming the grouping\n",
    "\n",
    "df_casual.head(3)"
   ]
  },
  {
   "cell_type": "markdown",
   "id": "f3062ab5",
   "metadata": {},
   "source": [
    "## Analysis"
   ]
  },
  {
   "cell_type": "markdown",
   "id": "61351220",
   "metadata": {},
   "source": [
    "> ### Descriptive Analysis"
   ]
  },
  {
   "cell_type": "code",
   "execution_count": null,
   "id": "1441b920",
   "metadata": {},
   "outputs": [],
   "source": [
    "### df_copy.sort('start_station_name').count()"
   ]
  },
  {
   "cell_type": "code",
   "execution_count": 26,
   "id": "caa68654",
   "metadata": {},
   "outputs": [
    {
     "data": {
      "text/html": [
       "<div>\n",
       "<style scoped>\n",
       "    .dataframe tbody tr th:only-of-type {\n",
       "        vertical-align: middle;\n",
       "    }\n",
       "\n",
       "    .dataframe tbody tr th {\n",
       "        vertical-align: top;\n",
       "    }\n",
       "\n",
       "    .dataframe thead th {\n",
       "        text-align: right;\n",
       "    }\n",
       "</style>\n",
       "<table border=\"1\" class=\"dataframe\">\n",
       "  <thead>\n",
       "    <tr style=\"text-align: right;\">\n",
       "      <th></th>\n",
       "      <th>ride_length</th>\n",
       "      <th>lat_length</th>\n",
       "      <th>lng_length</th>\n",
       "    </tr>\n",
       "  </thead>\n",
       "  <tbody>\n",
       "    <tr>\n",
       "      <th>count</th>\n",
       "      <td>426172</td>\n",
       "      <td>425605.000000</td>\n",
       "      <td>425605.000000</td>\n",
       "    </tr>\n",
       "    <tr>\n",
       "      <th>mean</th>\n",
       "      <td>0 days 00:34:03.215232347</td>\n",
       "      <td>0.000185</td>\n",
       "      <td>-0.000322</td>\n",
       "    </tr>\n",
       "    <tr>\n",
       "      <th>std</th>\n",
       "      <td>0 days 05:36:38.959695086</td>\n",
       "      <td>0.023171</td>\n",
       "      <td>0.019320</td>\n",
       "    </tr>\n",
       "    <tr>\n",
       "      <th>min</th>\n",
       "      <td>-1 days +23:55:57</td>\n",
       "      <td>-0.199352</td>\n",
       "      <td>-0.154925</td>\n",
       "    </tr>\n",
       "    <tr>\n",
       "      <th>25%</th>\n",
       "      <td>0 days 00:09:54</td>\n",
       "      <td>-0.010300</td>\n",
       "      <td>-0.009411</td>\n",
       "    </tr>\n",
       "    <tr>\n",
       "      <th>50%</th>\n",
       "      <td>0 days 00:17:49</td>\n",
       "      <td>0.000000</td>\n",
       "      <td>0.000000</td>\n",
       "    </tr>\n",
       "    <tr>\n",
       "      <th>75%</th>\n",
       "      <td>0 days 00:30:12</td>\n",
       "      <td>0.010632</td>\n",
       "      <td>0.008711</td>\n",
       "    </tr>\n",
       "    <tr>\n",
       "      <th>max</th>\n",
       "      <td>40 days 18:40:02</td>\n",
       "      <td>0.241480</td>\n",
       "      <td>0.149769</td>\n",
       "    </tr>\n",
       "  </tbody>\n",
       "</table>\n",
       "</div>"
      ],
      "text/plain": [
       "                     ride_length     lat_length     lng_length\n",
       "count                     426172  425605.000000  425605.000000\n",
       "mean   0 days 00:34:03.215232347       0.000185      -0.000322\n",
       "std    0 days 05:36:38.959695086       0.023171       0.019320\n",
       "min            -1 days +23:55:57      -0.199352      -0.154925\n",
       "25%              0 days 00:09:54      -0.010300      -0.009411\n",
       "50%              0 days 00:17:49       0.000000       0.000000\n",
       "75%              0 days 00:30:12       0.010632       0.008711\n",
       "max             40 days 18:40:02       0.241480       0.149769"
      ]
     },
     "execution_count": 26,
     "metadata": {},
     "output_type": "execute_result"
    }
   ],
   "source": [
    "# general descriptive anaysis on data set\n",
    "\n",
    "df_copy.describe()"
   ]
  },
  {
   "cell_type": "markdown",
   "id": "2385e13d",
   "metadata": {},
   "source": [
    "##### Insights:\n",
    "\n",
    "The minimum ride length for ride length is 23:57:04, mean time is 00:34:03, and the maximum ride length is 40 days 18:40:02\t\n",
    "\n",
    "The minimum value for lat_length is 0.199352, mean length is 0.000185, and the maximum lat_length is 0.241480.\n",
    "\n",
    "The minimum value for lng_length is 0.154925, mean length is 0.000322, and the maximum lng_length is 0.149769."
   ]
  },
  {
   "cell_type": "code",
   "execution_count": 27,
   "id": "516c0bb9",
   "metadata": {},
   "outputs": [
    {
     "data": {
      "text/html": [
       "<div>\n",
       "<style scoped>\n",
       "    .dataframe tbody tr th:only-of-type {\n",
       "        vertical-align: middle;\n",
       "    }\n",
       "\n",
       "    .dataframe tbody tr th {\n",
       "        vertical-align: top;\n",
       "    }\n",
       "\n",
       "    .dataframe thead th {\n",
       "        text-align: right;\n",
       "    }\n",
       "</style>\n",
       "<table border=\"1\" class=\"dataframe\">\n",
       "  <thead>\n",
       "    <tr style=\"text-align: right;\">\n",
       "      <th></th>\n",
       "      <th>ride_length</th>\n",
       "      <th>lat_length</th>\n",
       "      <th>lng_length</th>\n",
       "    </tr>\n",
       "  </thead>\n",
       "  <tbody>\n",
       "    <tr>\n",
       "      <th>count</th>\n",
       "      <td>177559</td>\n",
       "      <td>177310.000000</td>\n",
       "      <td>177310.000000</td>\n",
       "    </tr>\n",
       "    <tr>\n",
       "      <th>mean</th>\n",
       "      <td>0 days 00:54:33.896727285</td>\n",
       "      <td>0.000184</td>\n",
       "      <td>-0.000389</td>\n",
       "    </tr>\n",
       "    <tr>\n",
       "      <th>std</th>\n",
       "      <td>0 days 07:43:09.960888130</td>\n",
       "      <td>0.023688</td>\n",
       "      <td>0.019406</td>\n",
       "    </tr>\n",
       "    <tr>\n",
       "      <th>min</th>\n",
       "      <td>-1 days +23:58:02</td>\n",
       "      <td>-0.199352</td>\n",
       "      <td>-0.154925</td>\n",
       "    </tr>\n",
       "    <tr>\n",
       "      <th>25%</th>\n",
       "      <td>0 days 00:14:12</td>\n",
       "      <td>-0.009016</td>\n",
       "      <td>-0.008555</td>\n",
       "    </tr>\n",
       "    <tr>\n",
       "      <th>50%</th>\n",
       "      <td>0 days 00:24:43</td>\n",
       "      <td>0.000000</td>\n",
       "      <td>0.000000</td>\n",
       "    </tr>\n",
       "    <tr>\n",
       "      <th>75%</th>\n",
       "      <td>0 days 00:46:22</td>\n",
       "      <td>0.009689</td>\n",
       "      <td>0.007478</td>\n",
       "    </tr>\n",
       "    <tr>\n",
       "      <th>max</th>\n",
       "      <td>38 days 16:03:53</td>\n",
       "      <td>0.241480</td>\n",
       "      <td>0.149769</td>\n",
       "    </tr>\n",
       "  </tbody>\n",
       "</table>\n",
       "</div>"
      ],
      "text/plain": [
       "                     ride_length     lat_length     lng_length\n",
       "count                     177559  177310.000000  177310.000000\n",
       "mean   0 days 00:54:33.896727285       0.000184      -0.000389\n",
       "std    0 days 07:43:09.960888130       0.023688       0.019406\n",
       "min            -1 days +23:58:02      -0.199352      -0.154925\n",
       "25%              0 days 00:14:12      -0.009016      -0.008555\n",
       "50%              0 days 00:24:43       0.000000       0.000000\n",
       "75%              0 days 00:46:22       0.009689       0.007478\n",
       "max             38 days 16:03:53       0.241480       0.149769"
      ]
     },
     "execution_count": 27,
     "metadata": {},
     "output_type": "execute_result"
    }
   ],
   "source": [
    "df_casual.describe()"
   ]
  },
  {
   "cell_type": "markdown",
   "id": "6c163baf",
   "metadata": {},
   "source": [
    "##### Insights:\n",
    "\n",
    "The minimum value for ride length is 23:58, mean time is 00:54:33, and the maximum ride length is 38 days 16:03:53.\t\n",
    "\n",
    "The minimum value for lat_length is 0.199352, mean length is 0.000184, and the maximum lat_length is 0.241480.\n",
    "\n",
    "The minimum value for lng_length is 0.154925, mean length is 0.000389, and the maximum lng_length is 0.149769."
   ]
  },
  {
   "cell_type": "markdown",
   "id": "316cbb81",
   "metadata": {},
   "source": [
    "## Data Visualisation"
   ]
  },
  {
   "cell_type": "code",
   "execution_count": 28,
   "id": "fd2dff18",
   "metadata": {},
   "outputs": [
    {
     "data": {
      "text/plain": [
       "<AxesSubplot:xlabel='member_casual', ylabel='count'>"
      ]
     },
     "execution_count": 28,
     "metadata": {},
     "output_type": "execute_result"
    },
    {
     "data": {
      "image/png": "[encoded data removed]",
      "text/plain": [
       "<Figure size 432x288 with 1 Axes>"
      ]
     },
     "metadata": {
      "needs_background": "light"
     },
     "output_type": "display_data"
    }
   ],
   "source": [
    "# bar of members to casual\n",
    "\n",
    "sns.countplot(data=df_copy, x='member_casual')"
   ]
  },
  {
   "cell_type": "markdown",
   "id": "a45d4085",
   "metadata": {},
   "source": [
    "The chart above shows that the bike company has more customers which are members than the causal members."
   ]
  },
  {
   "cell_type": "code",
   "execution_count": 67,
   "id": "468440f6",
   "metadata": {},
   "outputs": [
    {
     "data": {
      "text/plain": [
       "<matplotlib.colorbar.Colorbar at 0x21e92757fd0>"
      ]
     },
     "execution_count": 67,
     "metadata": {},
     "output_type": "execute_result"
    },
    {
     "data": {
      "image/png": "[encoded data removed]",
      "text/plain": [
       "<Figure size 432x288 with 2 Axes>"
      ]
     },
     "metadata": {
      "needs_background": "light"
     },
     "output_type": "display_data"
    }
   ],
   "source": [
    "# Ploting of scatter plot on lat_lenght and lng_length\n",
    "\n",
    "plt.scatter(data=df_copy, x='lat_length', y='lng_length')\n",
    "plt.colorbar()"
   ]
  },
  {
   "cell_type": "markdown",
   "id": "27de744d",
   "metadata": {},
   "source": [
    "The chart shows a negative relationship between the longitutde and latitude difference."
   ]
  },
  {
   "cell_type": "markdown",
   "id": "0a7d58e7",
   "metadata": {},
   "source": [
    "### Question 1 (How do annual members and casual riders use Cyclistic bikes differently?)"
   ]
  },
  {
   "cell_type": "code",
   "execution_count": 30,
   "id": "8a58bacd",
   "metadata": {},
   "outputs": [
    {
     "data": {
      "text/plain": [
       "(array([0, 1, 2, 3, 4, 5, 6]),\n",
       " [Text(0, 0, 'saturday'),\n",
       "  Text(1, 0, 'friday'),\n",
       "  Text(2, 0, 'wednesday'),\n",
       "  Text(3, 0, 'monday'),\n",
       "  Text(4, 0, 'thursday'),\n",
       "  Text(5, 0, 'tuesday'),\n",
       "  Text(6, 0, 'sunday')])"
      ]
     },
     "execution_count": 30,
     "metadata": {},
     "output_type": "execute_result"
    },
    {
     "data": {
      "image/png": "[encoded data removed]",
      "text/plain": [
       "<Figure size 432x288 with 1 Axes>"
      ]
     },
     "metadata": {
      "needs_background": "light"
     },
     "output_type": "display_data"
    }
   ],
   "source": [
    "# Plotting of weekday bar chart of both member and casual\n",
    "\n",
    "type_order = df_copy['weekday'].value_counts().index\n",
    "colorbase = sns.color_palette()[2]\n",
    "sns.countplot(data=df_copy,x='weekday', color=colorbase, order=type_order)\n",
    "plt.title('weekday bar chart of both member and casual Cyclist')\n",
    "plt.xticks(rotation='45')"
   ]
  },
  {
   "cell_type": "markdown",
   "id": "266c7596",
   "metadata": {},
   "source": [
    "The bar chart shows that both the member and casual Cyclist ride bike mostly on weekends especially on saturday than other week days."
   ]
  },
  {
   "cell_type": "code",
   "execution_count": 32,
   "id": "268193f6",
   "metadata": {},
   "outputs": [
    {
     "data": {
      "text/plain": [
       "(array([0, 1, 2, 3, 4, 5, 6]),\n",
       " [Text(0, 0, 'saturday'),\n",
       "  Text(1, 0, 'friday'),\n",
       "  Text(2, 0, 'wednesday'),\n",
       "  Text(3, 0, 'monday'),\n",
       "  Text(4, 0, 'thursday'),\n",
       "  Text(5, 0, 'tuesday'),\n",
       "  Text(6, 0, 'sunday')])"
      ]
     },
     "execution_count": 32,
     "metadata": {},
     "output_type": "execute_result"
    },
    {
     "data": {
      "image/png": "[encoded data removed]",
      "text/plain": [
       "<Figure size 432x288 with 1 Axes>"
      ]
     },
     "metadata": {
      "needs_background": "light"
     },
     "output_type": "display_data"
    }
   ],
   "source": [
    "# bar plot of member weekday\n",
    "\n",
    "type_order_1 = df_member['weekday'].value_counts().index\n",
    "color_base = sns.color_palette()[3]\n",
    "sns.countplot(data=df_member,x='weekday', color=color_base, order= type_order_1)\n",
    "plt.title('member weekday chart Cyclist')\n",
    "plt.xticks(rotation='45')"
   ]
  },
  {
   "cell_type": "markdown",
   "id": "cf3efaa9",
   "metadata": {},
   "source": [
    "The bar chart shows that member Cyclist ride uses bikes throughout the week days but more especially on weekends than other week days."
   ]
  },
  {
   "cell_type": "code",
   "execution_count": 37,
   "id": "af3dc778",
   "metadata": {},
   "outputs": [
    {
     "data": {
      "text/plain": [
       "(array([0, 1, 2, 3, 4, 5, 6]),\n",
       " [Text(0, 0, 'saturday'),\n",
       "  Text(1, 0, 'friday'),\n",
       "  Text(2, 0, 'wednesday'),\n",
       "  Text(3, 0, 'monday'),\n",
       "  Text(4, 0, 'thursday'),\n",
       "  Text(5, 0, 'tuesday'),\n",
       "  Text(6, 0, 'sunday')])"
      ]
     },
     "execution_count": 37,
     "metadata": {},
     "output_type": "execute_result"
    },
    {
     "data": {
      "image/png": "[encoded data removed]",
      "text/plain": [
       "<Figure size 432x288 with 1 Axes>"
      ]
     },
     "metadata": {
      "needs_background": "light"
     },
     "output_type": "display_data"
    }
   ],
   "source": [
    "# bar plot of casual weekday\n",
    "\n",
    "type_order_2 = df_casual['weekday'].value_counts().index\n",
    "color_3 = sns.color_palette()[0]\n",
    "sns.countplot(data=df_casual,x='weekday', color=color_3, order=type_order_2)\n",
    "plt.title('Bar chart of casual Cyclist weekday')\n",
    "plt.xticks(rotation='45')"
   ]
  },
  {
   "cell_type": "markdown",
   "id": "5fa1c1ed",
   "metadata": {},
   "source": [
    "The bar chart shows that casual Cyclist ride bike mostly on weekends especially on saturday than other week days."
   ]
  },
  {
   "cell_type": "markdown",
   "id": "c0a1a061",
   "metadata": {},
   "source": [
    "#### Start and End station that is frequently used"
   ]
  },
  {
   "cell_type": "code",
   "execution_count": 110,
   "id": "95d56c4a",
   "metadata": {},
   "outputs": [
    {
     "data": {
      "text/plain": [
       "Text(0.5, 1.0, 'Start_station_name Bar chart for both Casual and member cyclist')"
      ]
     },
     "execution_count": 110,
     "metadata": {},
     "output_type": "execute_result"
    },
    {
     "data": {
      "image/png": "[encoded data removed]",
      "text/plain": [
       "<Figure size 432x288 with 1 Axes>"
      ]
     },
     "metadata": {
      "needs_background": "light"
     },
     "output_type": "display_data"
    }
   ],
   "source": [
    "# start_station_name Bar chart for both Casual and member cyclist  \n",
    "\n",
    "color_4 = sns.color_palette()[8]\n",
    "df_copy['start_station_name'].value_counts().head(20).plot(kind='bar', color=color_4)\n",
    "plt.xlabel('start_station_name')\n",
    "plt.ylabel('station counts')\n",
    "plt.title('Start_station_name Bar chart for both Casual and member cyclist')"
   ]
  },
  {
   "cell_type": "markdown",
   "id": "c28f9925",
   "metadata": {},
   "source": [
    "The bar chart shows that both the member and Casual cyclist start their ride at Streeter Dr & Grand Ave and Clark St & Elm station "
   ]
  },
  {
   "cell_type": "code",
   "execution_count": 103,
   "id": "b4bedda7",
   "metadata": {},
   "outputs": [
    {
     "data": {
      "text/plain": [
       "Text(0.5, 1.0, 'End_station_name Bar chart for both Casual and member cyclist')"
      ]
     },
     "execution_count": 103,
     "metadata": {},
     "output_type": "execute_result"
    },
    {
     "data": {
      "image/png": "[encoded data removed]",
      "text/plain": [
       "<Figure size 432x288 with 1 Axes>"
      ]
     },
     "metadata": {
      "needs_background": "light"
     },
     "output_type": "display_data"
    }
   ],
   "source": [
    "# end_station_name Bar chart for both Casual and member cyclist \n",
    "\n",
    "color_5 = sns.color_palette()[9]\n",
    "df_copy['end_station_name'].value_counts().head(20).plot(kind='bar', color=color_5)\n",
    "plt.xlabel('end_station_name')\n",
    "plt.ylabel('station counts')\n",
    "plt.title('End_station_name Bar chart for both Casual and member cyclist')"
   ]
  },
  {
   "cell_type": "markdown",
   "id": "0cce9afe",
   "metadata": {},
   "source": [
    "The bar chart shows that both casual and member cyclist end their ride at Streeter Dr & Grand Ave and Clark St & Elm station"
   ]
  },
  {
   "cell_type": "code",
   "execution_count": 106,
   "id": "286b5bfc",
   "metadata": {},
   "outputs": [
    {
     "data": {
      "text/plain": [
       "Text(0.5, 1.0, 'Casual cyclist start station bar chart')"
      ]
     },
     "execution_count": 106,
     "metadata": {},
     "output_type": "execute_result"
    },
    {
     "data": {
      "image/png": "[encoded data removed]",
      "text/plain": [
       "<Figure size 432x288 with 1 Axes>"
      ]
     },
     "metadata": {
      "needs_background": "light"
     },
     "output_type": "display_data"
    }
   ],
   "source": [
    "# casual cyclist start station bar chart\n",
    "\n",
    "color_6 = sns.color_palette()[1]\n",
    "df_casual['start_station_name'].value_counts().head(20).plot(kind='bar', color=color_6)\n",
    "plt.xlabel('Casual cyclist start_station_name')\n",
    "plt.ylabel('station counts')\n",
    "plt.title('Casual cyclist start station bar chart')"
   ]
  },
  {
   "cell_type": "markdown",
   "id": "0e28b8f2",
   "metadata": {},
   "source": [
    "The bar chart shows that most Casual cyclist start their ride at Streeter Dr & Grand Ave station "
   ]
  },
  {
   "cell_type": "code",
   "execution_count": 109,
   "id": "fbe234b7",
   "metadata": {},
   "outputs": [
    {
     "data": {
      "text/plain": [
       "Text(0.5, 1.0, 'Casual cyclist end station bar chart')"
      ]
     },
     "execution_count": 109,
     "metadata": {},
     "output_type": "execute_result"
    },
    {
     "data": {
      "image/png": "[encoded data removed]",
      "text/plain": [
       "<Figure size 432x288 with 1 Axes>"
      ]
     },
     "metadata": {
      "needs_background": "light"
     },
     "output_type": "display_data"
    }
   ],
   "source": [
    "# Casual cyclist end_station_name\n",
    "\n",
    "color_7= sns.color_palette()[3]\n",
    "df_copy['end_station_name'].value_counts().head(20).plot(kind='bar', color=color_7)\n",
    "plt.xlabel('end_station_name')\n",
    "plt.ylabel('station counts')\n",
    "plt.title('Casual cyclist end station bar chart')"
   ]
  },
  {
   "cell_type": "markdown",
   "id": "f6013dbc",
   "metadata": {},
   "source": [
    "The bar chart shows that most Casual cyclist end their ride at Streeter Dr & Grand Ave and Clark St & Elm station"
   ]
  },
  {
   "cell_type": "markdown",
   "id": "cfc70293",
   "metadata": {},
   "source": [
    "#### Start and End station that is not frequently used by casual cyclist"
   ]
  },
  {
   "cell_type": "code",
   "execution_count": 50,
   "id": "cc556b5f",
   "metadata": {},
   "outputs": [
    {
     "data": {
      "text/plain": [
       "Text(0.5, 1.0, 'Casual cyclist start station that is not frequently used')"
      ]
     },
     "execution_count": 50,
     "metadata": {},
     "output_type": "execute_result"
    },
    {
     "data": {
      "image/png": "[encoded data removed]",
      "text/plain": [
       "<Figure size 432x288 with 1 Axes>"
      ]
     },
     "metadata": {
      "needs_background": "light"
     },
     "output_type": "display_data"
    }
   ],
   "source": [
    "# Casual cyclist start station that is not frequently used.\n",
    "\n",
    "color_7= sns.color_palette()[0]\n",
    "df_copy['start_station_name'].value_counts().tail(20).plot(kind='bar', color=color_7)\n",
    "plt.xlabel('end_station_name')\n",
    "plt.ylabel('station counts')\n",
    "plt.title('Casual cyclist start station that is not frequently used')"
   ]
  },
  {
   "cell_type": "markdown",
   "id": "30983e2d",
   "metadata": {},
   "source": [
    "The bar chart shows that Casual cyclist is less likely to start their ride at Stewart Ave & 63rd station"
   ]
  },
  {
   "cell_type": "code",
   "execution_count": 51,
   "id": "51cadf2d",
   "metadata": {},
   "outputs": [
    {
     "data": {
      "text/plain": [
       "Damen Ave & 51st St               11\n",
       "Eggleston Ave & 69th St (*)       11\n",
       "Woodlawn Ave & 75th St            10\n",
       "Bennett Ave & 79th St              8\n",
       "Michigan Ave & 71st St             7\n",
       "Rhodes Ave & 71st St               6\n",
       "Marshfield Ave & 59th St           6\n",
       "Shields Ave & 43rd St              5\n",
       "Carpenter St & 63rd St             5\n",
       "Laramie Ave & Gladys Ave           4\n",
       "Ashland Ave & 66th St              4\n",
       "Racine Ave & 61st St               4\n",
       "Stewart Ave & 63rd St (*)          3\n",
       "Eggleston Ave & 69th St            3\n",
       "Kostner Ave & Lake St              2\n",
       "Stewart Ave & 63rd St              2\n",
       "Racine Ave & Washington Blvd       2\n",
       "South Chicago Ave & Elliot Ave     2\n",
       "Elizabeth St & 59th St             1\n",
       "Damen Ave & Walnut (Lake) St       1\n",
       "Name: end_station_name, dtype: int64"
      ]
     },
     "execution_count": 51,
     "metadata": {},
     "output_type": "execute_result"
    }
   ],
   "source": [
    "# Casual cyclist start station that is not frequently used.\n",
    "\n",
    "color_7= sns.color_palette()[4]\n",
    "df_copy['end_station_name'].value_counts().tail(20).plot(kind='bar', color=color_7)\n",
    "plt.xlabel('end_station_name')\n",
    "plt.ylabel('station counts')\n",
    "plt.title('Casual cyclist start station that is not frequently used')"
   ]
  },
  {
   "cell_type": "markdown",
   "id": "a696e91b",
   "metadata": {},
   "source": [
    "The bar chart shows that Casual cyclist is less likely to end their ride at Elizabeth St & 59th St and Damen Ave & Walnut (Lake) station"
   ]
  }
 ],
 "metadata": {
  "kernelspec": {
   "display_name": "Python 3 (ipykernel)",
   "language": "python",
   "name": "python3"
  },
  "language_info": {
   "codemirror_mode": {
    "name": "ipython",
    "version": 3
   },
   "file_extension": ".py",
   "mimetype": "text/x-python",
   "name": "python",
   "nbconvert_exporter": "python",
   "pygments_lexer": "ipython3",
   "version": "3.9.7"
  }
 },
 "nbformat": 4,
 "nbformat_minor": 5
}
